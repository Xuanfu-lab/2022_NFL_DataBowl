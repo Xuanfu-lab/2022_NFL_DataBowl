{
 "cells": [
  {
   "cell_type": "markdown",
   "id": "f2b95a08",
   "metadata": {
    "papermill": {
     "duration": 0.010074,
     "end_time": "2021-12-30T03:50:22.033611",
     "exception": false,
     "start_time": "2021-12-30T03:50:22.023537",
     "status": "completed"
    },
    "tags": []
   },
   "source": [
    "# **Decompose Tackling, a Neural Network Approach**"
   ]
  },
  {
   "cell_type": "markdown",
   "id": "2e914d4b",
   "metadata": {
    "papermill": {
     "duration": 0.008703,
     "end_time": "2021-12-30T03:50:22.051855",
     "exception": false,
     "start_time": "2021-12-30T03:50:22.043152",
     "status": "completed"
    },
    "tags": []
   },
   "source": [
    "Github link: https://github.com/Xuanfu-lab/2022_NFL_DataBowl"
   ]
  },
  {
   "cell_type": "markdown",
   "id": "89f1c900",
   "metadata": {
    "papermill": {
     "duration": 0.00855,
     "end_time": "2021-12-30T03:50:22.069404",
     "exception": false,
     "start_time": "2021-12-30T03:50:22.060854",
     "status": "completed"
    },
    "tags": []
   },
   "source": [
    "## TABLE OF CONTENTS\n",
    "* [Introduction](#one)\n",
    "* [Issues with current PFF Scouting Data](#two)\n",
    "* [Neural Network Approach to Identify Tacklers](#three)\n",
    "    - [Data Preparation](#a)\n",
    "    - [Control Influence](#b)\n",
    "    - [Neural Network Model & Its Result](#c)\n",
    "    - [Model Application](#d)\n",
    "    - [Model Limitations](#e)\n",
    "* [Neural Network Approach to Predict Tackling Outcome](#four)\n",
    "* [Grading System Based on Neural Network Model](#five)\n",
    "* [Expanded Application in Other Areas in NFL](#six)"
   ]
  },
  {
   "cell_type": "markdown",
   "id": "54767352",
   "metadata": {
    "papermill": {
     "duration": 0.008624,
     "end_time": "2021-12-30T03:50:22.086859",
     "exception": false,
     "start_time": "2021-12-30T03:50:22.078235",
     "status": "completed"
    },
    "tags": []
   },
   "source": [
    "<a id=\"one\"></a>\n",
    "## I. INTRODUCTION\n",
    "\n",
    "*“Football is blocking and tackling, everything else is mythology.” - Vince Lombardi*\n",
    "\n",
    "Although football has changed a lot from the Great Lombardi’s era, blocking and tackling are still fundamental aspects of football. An important tackle, such as Mike Jones’s tackle on Kevin Dyson on Super BowlIV, can send a team to dreamland. Mistackles, such as Cardinals’ terrible attempts on James Harrison, set up a heartbreaking defeat. \n",
    "\n",
    "The most exciting and the most important event on punt/kickoff return is returners’ one-on-one against tacklers. Many of the returners succeed; their moves will be recorded on the highlight wheel, and the return team gains yards. But many of them are stopped immediately and give their team the minimal gain. In this paper, we will use neural network models to identify tacklers, predict tackling success probability, and give scores to returners and tacklers by comparing their actual breaking tackle rate/successful tackle rate to their expected breaking tackle rate/successful tackle rate.\n",
    "\n"
   ]
  },
  {
   "cell_type": "markdown",
   "id": "89bcb900",
   "metadata": {
    "papermill": {
     "duration": 0.008658,
     "end_time": "2021-12-30T03:50:22.104406",
     "exception": false,
     "start_time": "2021-12-30T03:50:22.095748",
     "status": "completed"
    },
    "tags": []
   },
   "source": [
    "<a id=\"one\"></a>\n",
    "## II. ISSUES WITH CURRENT PFF SCOUTING DATA\n",
    "\n",
    "During our data explanatory phase, we noticed that the data from PFF Scouting is less than perfect. Although PFF has done a good job on labeling “missed tackler”, “assist tackler”, and “tackler”, it has failed to label some players that should be recorded. On some long returns (> 20 yards), there were players who made genuine efforts to tackle the returners but failed to appear on PFF scouting data.\n",
    "\n",
    "An example is Antonio Callaway’s punt return on the Ravens (playID = 2502, GameID = 2018123000). The gifs below from the game suggest that Baltimore No.36 and Baltimore No.54 were both missed tacklers. However, PFF Scouting data only labels Baltimore No.54 as a mistackler and ignores Baltimore No.36.\n",
    "\n",
    "<img src=\"https://media.giphy.com/media/GWNbM2IshTeck5JjXo/giphy.gif\" width=600> "
   ]
  },
  {
   "cell_type": "markdown",
   "id": "5149ade0",
   "metadata": {
    "papermill": {
     "duration": 0.008569,
     "end_time": "2021-12-30T03:50:22.121928",
     "exception": false,
     "start_time": "2021-12-30T03:50:22.113359",
     "status": "completed"
    },
    "tags": []
   },
   "source": [
    "<a id=\"one\"></a>\n",
    "## III. NEURAL NETWORK APPROACH TO IDENTIFY TACKLERS\n",
    "\n",
    "Traditional methods are not suitable for identifying tacklers. Statistical methods such as quadratic discriminant analysis (QDA) failed to classify tacklers due to the large volume of input features (over 200 features were used). Simple algorithms, such as classifying the nearest opposing player as the tackler, also failed because it could not consider events such as a returner’s teammate blocking the tackling path. Because of the nature of the input features, we decided to use a neural network approach. Inspired by *Wang and Zemel*[1], we applied a Feed-Forward Network (FFN) to identify tacklers."
   ]
  },
  {
   "cell_type": "markdown",
   "id": "7847bb6e",
   "metadata": {
    "papermill": {
     "duration": 0.00839,
     "end_time": "2021-12-30T03:50:22.139051",
     "exception": false,
     "start_time": "2021-12-30T03:50:22.130661",
     "status": "completed"
    },
    "tags": []
   },
   "source": [
    "<a id=\"a\"></a>\n",
    "### a. Data Preparation\n",
    "\n",
    "We first transformed the NFL’s Next Gen tracking data into a matrix, with each row containing all player’s relevant information in a given time frame. For each tackling event recorded in the PFF Scouting data, we selected the last frame when the tackler entered a cutoff distance from the returner. The intuition is that a tackler must be close enough to a returner in order to attempt a tackle, and only the last attempt would be labeled in PFF Scouting data. The cutoff distance we chose is 1.5 yard, which is the estimated distance between returner’s (x,y) and tackler’s (x,y) when tackler reaches his arm and touches the returner’s body. \n",
    "\n",
    "We then added three features on top of the tracking data to further help the neural network model to identify tacklers. The first two added features are self-explanatory. We will discuss the mathematical formula and intuitions behind the third feature “control influence” later.\n",
    "\n",
    "        d:\tDistance from a player to the returner\n",
    "\n",
    "        an: \tAngle from a player to the returner\n",
    "\n",
    "        i:\tA player’s control influence over the returner\n",
    "\n",
    "Below is a sample of one row of the input matrix: (217 features in total)\n",
    "\n",
    "[returner’s *x, y, s, a, dis, o, dir*] [returner’s teammate1’s x, y, s, a, dis, o, dir, d, an, i] … [returner’s teammate10’s *x, y, s, a, dis, o, dir, d, an, i*] [opposing player1’s *x, y, s, a, dis, o, dir, d, an, i*] … [opposing player11’s *x, y, s, a, dis, o, dir, d, an, i*]\n",
    "\n",
    "Note: ‘x’, ‘y’, ‘s’, ‘a’, ‘dis’, ‘o’, ‘dir’ are directly taken from the tracking data. \n",
    "Their definitions are in [NFL Big Data Bowl 2022 | Kaggle]('https://www.kaggle.com/c/nfl-big-data-bowl-2022/data'). \n",
    "\n",
    "Further, we augmented the training set with its mirror image plays, which were rotated about the x-axis and the y-axis of the field of the play. Our intuition is that tackling events should be invariant to symmetrical transformation. A tackler, who has a 85% successful tackle rate on the returner of the left side of the field, should still have 85% successful tackle rate on the returner of the right side of the field, same applies to  rotating the field about the y-axis.\n",
    "\n",
    "This mirror image augmentation significantly improved neural network’s overfitting issue. Originally, we had 7,120 samples from the PFF Scouting data. With mirror plays, we had 28,480 (7,120 × 2 × 2) samples to train the model."
   ]
  },
  {
   "cell_type": "markdown",
   "id": "46b6af62",
   "metadata": {
    "papermill": {
     "duration": 0.008554,
     "end_time": "2021-12-30T03:50:22.156294",
     "exception": false,
     "start_time": "2021-12-30T03:50:22.147740",
     "status": "completed"
    },
    "tags": []
   },
   "source": [
    "<a id=\"b\"></a>\n",
    "### b. Control Influence\n",
    "\n",
    "When identifying a tackler, we wanted to quantitatively measure each player’s control of the field. After obtaining all players’ field control measures, we are able to determine the distribution of blockers and tacklers, and whether blockers’ positions provide blockers abilities to block tacklers. This can be measured using *William Spearman*’s[2] pitch control model. More specifically, we are interested in each player’s individual influence around the returner. We used *Javier Fernandez and Luke Bornn*’s[3] formula for the influence calculation. A player i ’s influence on at given location p is defined as:\n",
    "\n",
    "$$ Ii= \\frac {fi(p, t)}  {fi(pi(t), t)}$$\n",
    "\n",
    "We will demonstrates how control influence measures path interference with the below hypothetical case:\n",
    "\n",
    "\t\t\tCurrent Position\tSpeed (yard/s)\tMoving Direction\n",
    "\tReturner\t(10, 10)\t\t\t10\t\t\t\t↘\n",
    "\n",
    "\tTackler\t (10, 12)\t\t\t10\t\t\t\t↓\n",
    "\n",
    "\n",
    "<img src=\"https://i.ibb.co/1nWSxfb/Picture1.png\" width=800> \n",
    "\n",
    "The last column in the graph above shows the tackler’s influence over the region. Because the tackler is running downward from point (10, 12) with a relatively high speed, his influence is primarily concentrated in the lower region highlighted in red. The middle column shows the returner’s influence, and the first column shows the intertwined influence of the returner and tackler. The red region in the first column of the graph shows where  two players are most likely to have conflicting control. In the NFL's words, this is where tackling would most likely happen."
   ]
  },
  {
   "cell_type": "markdown",
   "id": "fb302a3a",
   "metadata": {
    "papermill": {
     "duration": 0.008447,
     "end_time": "2021-12-30T03:50:22.173716",
     "exception": false,
     "start_time": "2021-12-30T03:50:22.165269",
     "status": "completed"
    },
    "tags": []
   },
   "source": [
    "<a id=\"c\"></a>\n",
    "### c. Neural Network Model & Its Result\n",
    "\n",
    "We trained a relatively shallow (2 hidden layers with 2 drop-out layers) neural network due to limited sample size. Even with mirror plays, we only have 28,480 samples. We used 80% of the samples as training set, and the rest 20% as testing set. Deeper neural networks over-fit the training set, resulting in a very low accuracy for the test set. With a shallower structure and two drop-out layers, the overfitting issue is resolved.\n",
    "\n",
    "<img src=\"https://i.ibb.co/2tNkRjw/Picture2.png\">\n",
    "\n",
    "Using naive guessing as a baseline, the probability of correctly picking the tackler is 9.1% (1 out of 11). Our model achieved 89.0% accuracy for the training set and 78.7% for the test set. \n",
    "\n",
    "<img src=\"https://i.ibb.co/pbpp9sv/Picture3.png\">\n",
    "\n",
    "\n",
    "\n"
   ]
  },
  {
   "cell_type": "markdown",
   "id": "e5aa0082",
   "metadata": {
    "papermill": {
     "duration": 0.008345,
     "end_time": "2021-12-30T03:50:22.192979",
     "exception": false,
     "start_time": "2021-12-30T03:50:22.184634",
     "status": "completed"
    },
    "tags": []
   },
   "source": [
    "<a id=\"d\"></a>\n",
    "### d.\tModel Application\n",
    "\n",
    "With a successful neural network model, we expanded its application to identify tacklers that weren’t recorded in the PFF Scouting data. Take the game Baltimore vs. Cleveland (playID = 2502, GameID = 2018123000) as an example:\n",
    "\n",
    "<img src=\"https://i.ibb.co/4Y9B78Y/Picture4.png\">\n",
    "\n",
    "The expected tackler sequence is:\n",
    "\n",
    "\t[9 … 8 … 1 … 10 … 2 … 6 … 0 … 3]\n",
    "    \n",
    "Below is the neural network model predicted tackler (Y) for each frame of the punt-return phase:\n",
    "\n",
    "[<span style=\"color:red;\"> **4  4** </span> 9  9  9  9  9  9  8  8  8  8  8  1  1  1  1  1  1  1  1  1  1  1  10 10 10 10 10 10 10 10 10 10  2  2  2  2  2  2  6  6  6  6 <span style=\"color:red;\"> **2  1  3**  </span>0  0  0  0  0  0  0  0  3  3  3  3  3  3  3  3  3]\n",
    "\n",
    "The model predicts the 1st tackler to be Y=9 (BAL36). After the 8th frame, it predicts the 2nd tackler is Y=8 (BAL54), and so on. Lastly, it predicts Y=0 (BAL 4) and Y=3 (BAL 87) as the last two tacklers. Despite a few frames of mis-classification (highlighted in red above), the overall sequence is in line with what we observed in the real game. \n"
   ]
  },
  {
   "cell_type": "markdown",
   "id": "618eb031",
   "metadata": {
    "papermill": {
     "duration": 0.008505,
     "end_time": "2021-12-30T03:50:22.210107",
     "exception": false,
     "start_time": "2021-12-30T03:50:22.201602",
     "status": "completed"
    },
    "tags": []
   },
   "source": [
    "<a id=\"e\"></a>\n",
    "### e. Model Limitations\n",
    "\n",
    "As mentioned in data preparation, we only used tacklers’ last entries to the 1.5 yard circle from the returner. However, in some plays, the tackler misses a tackle, gets up, chases down the returner, and makes a successful tackle. Under such circumstances, only the last successful tackle will be included, but his first failed attempt will not be included in the data selection. However, for such re-entries, it usually means that the returner’s speed is much slower than that of the tackler due to chaotic field situations and/or the tackler’s previous tackle. The returner, under this circumstance, won’t make much forward progress.\n"
   ]
  },
  {
   "cell_type": "markdown",
   "id": "df33b2d8",
   "metadata": {
    "papermill": {
     "duration": 0.008502,
     "end_time": "2021-12-30T03:50:22.227353",
     "exception": false,
     "start_time": "2021-12-30T03:50:22.218851",
     "status": "completed"
    },
    "tags": []
   },
   "source": [
    "<a id=\"four\"></a>\n",
    "## IV. NEURAL NETWORK APPROACH TO PREDICT TACKLING OUTCOME \n",
    "\n",
    "After seeing the neural network model’s success in identifying tacklers, we expanded its application to outcome prediction. The input matrix for outcome prediction neural network model is identical to tackler identification model, and the model structures are similar except an increased neuron size for each layer. The two hidden layers now have 400 and 200 neurons respectively, compared to 128 and 64 in the previous model. The output layer uses a sigmoid function, which yields a value ranging from 0 to 1. This value can be treated as the probability of a specific tackler successfully tackling the returner. The model will make a cutoff at 0.5 to determine whether a tackle is missed (Y < 0.5), or assist/success (Y ≥ 0.5). \n",
    "\n",
    "<img src=\"https://i.ibb.co/s2zyNV3/Picture5.png\">\n",
    "\n",
    "The model achieves 89.4% accuracy for the training set and 80.3% accuracy for the test set. While results were good, the model shows signs of overfitting, as the loss functions of the training set and test set start to diverge after the 50th training epoch. As a result, we have to early-stop the learning process at the 150th epoch (compared to the 200th epoch for the tackler identification) to prevent excessive overfitting. We hypothesize that the overfitting issue was due to our neural network model being too shallow. However, we are not able to train an effective deep neural network with the limited amount of samples.\n",
    "\n",
    "<img src=\"https://i.ibb.co/8N2ZLz6/Picture6.png\">\n",
    "\n"
   ]
  },
  {
   "cell_type": "markdown",
   "id": "0c4f9ffb",
   "metadata": {
    "papermill": {
     "duration": 0.008486,
     "end_time": "2021-12-30T03:50:22.244804",
     "exception": false,
     "start_time": "2021-12-30T03:50:22.236318",
     "status": "completed"
    },
    "tags": []
   },
   "source": [
    "\n",
    "\n"
   ]
  },
  {
   "cell_type": "markdown",
   "id": "30cfd5ce",
   "metadata": {
    "papermill": {
     "duration": 0.008598,
     "end_time": "2021-12-30T03:50:22.262201",
     "exception": false,
     "start_time": "2021-12-30T03:50:22.253603",
     "status": "completed"
    },
    "tags": []
   },
   "source": [
    "<a id=\"six\"></a>\n",
    "## VI. EXPANDED APPLICATION ON OTHER AREAS IN NFL \n",
    "\n",
    "Although we only use special team’s data to train, label, predict, and grade players’ tackling ability / breaking tackle ability, our model could be widely applied to many other areas of the NFL since tackling is possibly the most fundamental element of football. We can apply our model in other types of plays such as rushing and passing to predict ball carriers / tacklers’ performance as well. Additionally, since rushing / passing plays are a lot more frequent in a football game than the special team play, with a significantly larger dataset, our neural network models should be more reliable.\n",
    "\n",
    "Word Count:1957\n"
   ]
  },
  {
   "cell_type": "markdown",
   "id": "3d08061b",
   "metadata": {
    "papermill": {
     "duration": 0.009351,
     "end_time": "2021-12-30T03:50:22.280351",
     "exception": false,
     "start_time": "2021-12-30T03:50:22.271000",
     "status": "completed"
    },
    "tags": []
   },
   "source": [
    "\n",
    "\n"
   ]
  }
 ],
 "metadata": {
  "kernelspec": {
   "display_name": "Python 3",
   "language": "python",
   "name": "python3"
  },
  "language_info": {
   "codemirror_mode": {
    "name": "ipython",
    "version": 3
   },
   "file_extension": ".py",
   "mimetype": "text/x-python",
   "name": "python",
   "nbconvert_exporter": "python",
   "pygments_lexer": "ipython3",
   "version": "3.7.12"
  },
  "papermill": {
   "default_parameters": {},
   "duration": 14.555159,
   "end_time": "2021-12-30T03:50:25.867996",
   "environment_variables": {},
   "exception": null,
   "input_path": "__notebook__.ipynb",
   "output_path": "__notebook__.ipynb",
   "parameters": {},
   "start_time": "2021-12-30T03:50:11.312837",
   "version": "2.3.3"
  }
 },
 "nbformat": 4,
 "nbformat_minor": 5
}
